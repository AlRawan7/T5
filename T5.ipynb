{
  "nbformat": 4,
  "nbformat_minor": 0,
  "metadata": {
    "colab": {
      "provenance": [],
      "authorship_tag": "ABX9TyNQVVX/opcnB98iuia6EO8g",
      "include_colab_link": true
    },
    "kernelspec": {
      "name": "python3",
      "display_name": "Python 3"
    },
    "language_info": {
      "name": "python"
    }
  },
  "cells": [
    {
      "cell_type": "markdown",
      "metadata": {
        "id": "view-in-github",
        "colab_type": "text"
      },
      "source": [
        "<a href=\"https://colab.research.google.com/github/AlRawan7/T5/blob/main/T5.ipynb\" target=\"_parent\"><img src=\"https://colab.research.google.com/assets/colab-badge.svg\" alt=\"Open In Colab\"/></a>"
      ]
    },
    {
      "cell_type": "code",
      "execution_count": 1,
      "metadata": {
        "id": "W9tRIVfgdP9u"
      },
      "outputs": [],
      "source": [
        "first_dic = {\"Rawan\": 1,\"Renad\": 2, \"Razan\":3}"
      ]
    },
    {
      "cell_type": "markdown",
      "source": [
        "**Make Dictionry**  \n",
        "1. first key is : rawan with *value 1*   \n",
        "\n",
        "2. second key is : renad with *value 2*"
      ],
      "metadata": {
        "id": "8dgZmBGW0HGA"
      }
    },
    {
      "cell_type": "code",
      "source": [
        "print(first_dic)"
      ],
      "metadata": {
        "colab": {
          "base_uri": "https://localhost:8080/"
        },
        "id": "zMkeicvBeUd6",
        "outputId": "c7bb5eb9-c7ca-4a4e-dfb4-e6006716d2af"
      },
      "execution_count": 2,
      "outputs": [
        {
          "output_type": "stream",
          "name": "stdout",
          "text": [
            "{'Rawan': 1, 'Renad': 2, 'Razan': 3}\n"
          ]
        }
      ]
    },
    {
      "cell_type": "markdown",
      "source": [
        "Print first_dic with code  \n",
        "`print(first_dic)`"
      ],
      "metadata": {
        "id": "bksaQnFl0o2S"
      }
    },
    {
      "cell_type": "code",
      "source": [
        "first_dic.keys()"
      ],
      "metadata": {
        "colab": {
          "base_uri": "https://localhost:8080/"
        },
        "id": "W5sJduDcedNh",
        "outputId": "80c667fa-9e4e-4415-e7ed-24e3e27ae63e"
      },
      "execution_count": 3,
      "outputs": [
        {
          "output_type": "execute_result",
          "data": {
            "text/plain": [
              "dict_keys(['Rawan', 'Renad', 'Razan'])"
            ]
          },
          "metadata": {},
          "execution_count": 3
        }
      ]
    },
    {
      "cell_type": "code",
      "source": [
        "value = first_dic.values()\n",
        "print(value)"
      ],
      "metadata": {
        "colab": {
          "base_uri": "https://localhost:8080/"
        },
        "id": "TfoZeGchehal",
        "outputId": "ca287a7c-98cf-426b-c809-e234d2c70129"
      },
      "execution_count": 5,
      "outputs": [
        {
          "output_type": "stream",
          "name": "stdout",
          "text": [
            "dict_values([1, 2, 3])\n"
          ]
        }
      ]
    },
    {
      "cell_type": "code",
      "source": [
        "first_dic[\"Rawan\"] = 4"
      ],
      "metadata": {
        "id": "xck5pb8FeoIk"
      },
      "execution_count": 10,
      "outputs": []
    },
    {
      "cell_type": "markdown",
      "source": [
        "Here Update Dic in key rawan, **4**"
      ],
      "metadata": {
        "id": "3IOHl64p0sBT"
      }
    },
    {
      "cell_type": "code",
      "source": [
        "print(first_dic)"
      ],
      "metadata": {
        "colab": {
          "base_uri": "https://localhost:8080/"
        },
        "id": "A3PYOeQ2eyb_",
        "outputId": "d213e412-0553-4a54-b1a3-b477c4a68e08"
      },
      "execution_count": 11,
      "outputs": [
        {
          "output_type": "stream",
          "name": "stdout",
          "text": [
            "{'Rawan': 4, 'Renad': 2, 'Razan': 3}\n"
          ]
        }
      ]
    },
    {
      "cell_type": "code",
      "source": [
        "first_dic[\"Rawan\"] = first_dic[\"Rawan\"] + 5"
      ],
      "metadata": {
        "id": "gepPvDsOfBfX"
      },
      "execution_count": 12,
      "outputs": []
    },
    {
      "cell_type": "markdown",
      "source": [
        "**Here make plus 5 to key rawan**"
      ],
      "metadata": {
        "id": "hpgYGyYj1pLH"
      }
    },
    {
      "cell_type": "code",
      "source": [
        "print(first_dic)"
      ],
      "metadata": {
        "colab": {
          "base_uri": "https://localhost:8080/"
        },
        "id": "hHuEJYdAfGeg",
        "outputId": "72cf9837-e74a-4d63-9a86-2c2084e8d0db"
      },
      "execution_count": 13,
      "outputs": [
        {
          "output_type": "stream",
          "name": "stdout",
          "text": [
            "{'Rawan': 9, 'Renad': 2, 'Razan': 3}\n"
          ]
        }
      ]
    },
    {
      "cell_type": "code",
      "source": [],
      "metadata": {
        "id": "5c-vWYlLfHeH"
      },
      "execution_count": null,
      "outputs": []
    }
  ]
}